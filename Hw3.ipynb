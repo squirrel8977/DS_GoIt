{
 "cells": [
  {
   "cell_type": "code",
   "execution_count": 9,
   "metadata": {},
   "outputs": [],
   "source": [
    "import numpy as np\n",
    "import pandas as pd\n",
    "from sklearn.linear_model import LinearRegression"
   ]
  },
  {
   "cell_type": "markdown",
   "metadata": {},
   "source": [
    "Напишіть функцію гіпотези лінійної регресії у векторному вигляді."
   ]
  },
  {
   "cell_type": "code",
   "execution_count": 2,
   "metadata": {},
   "outputs": [],
   "source": [
    "def h(X, w):\n",
    "  return np.dot(X, w)"
   ]
  },
  {
   "cell_type": "markdown",
   "metadata": {},
   "source": [
    "Cтворіть функцію для обчислення функції втрат у векторному вигляді."
   ]
  },
  {
   "cell_type": "code",
   "execution_count": 3,
   "metadata": {},
   "outputs": [],
   "source": [
    "def loss_function(X, y, w):\n",
    "  return np.square(h(X, w) - y).sum() / (2 * len(X))"
   ]
  },
  {
   "cell_type": "markdown",
   "metadata": {},
   "source": [
    "Реалізуйте один крок градієнтного спуску."
   ]
  },
  {
   "cell_type": "code",
   "execution_count": 4,
   "metadata": {},
   "outputs": [],
   "source": [
    "def gradient_step(X, y, w, learning_rate):\n",
    "  m = len(y)\n",
    "  grad = (X.T @ (h(X, w) - y)) / m\n",
    "  w -= learning_rate * grad\n",
    "  return w"
   ]
  },
  {
   "cell_type": "code",
   "execution_count": 8,
   "metadata": {},
   "outputs": [],
   "source": [
    "def gradient(X, y, learning_rate, num_iter, eps):\n",
    "  ones = np.ones((X.shape[0], 1))\n",
    "  X = np.hstack((ones, X))\n",
    "\n",
    "  w = np.zeros(X.shape[1])  # Initialize weights\n",
    "\n",
    "  loss = loss_function(X, y, w)\n",
    "  loss_history = [loss]\n",
    "\n",
    "  for _ in range(num_iter):\n",
    "    w= gradient_step(X, y, w, learning_rate)\n",
    "\n",
    "    loss = loss_function(X, y, w)\n",
    "    if abs(loss - loss_history[-1]) < eps:\n",
    "      loss_history.append(loss)\n",
    "      break\n",
    "\n",
    "    loss_history.append(loss)\n",
    "  return w, loss_history"
   ]
  },
  {
   "cell_type": "markdown",
   "metadata": {},
   "source": [
    "Знайдіть найкращі параметри w для датасету використовуючи написані вами функції, прогнозуючу ціну на будинок залежно від площі, кількості ванних кімнат та кількості спалень. Знайдіть ці ж параметри за допомогою аналітичного рішення. Для перевірки спрогнозованих значень, використайте LinearRegression з бібліотеки scikit-learn та порівняйте результати. "
   ]
  },
  {
   "cell_type": "code",
   "execution_count": 7,
   "metadata": {},
   "outputs": [
    {
     "name": "stdout",
     "output_type": "stream",
     "text": [
      "Gradient Descent - w: [4766729.23852767  821968.6638504   696447.15403634  300259.73739255]\n",
      "Analytical Solution - Optimal w: [4766729.24770642  821968.58935343  696447.75898579  300259.16468032]\n"
     ]
    }
   ],
   "source": [
    "df = pd.read_csv(\"Housing.csv\")\n",
    "norm = df.copy()\n",
    "columns = ['price', 'area', 'bedrooms', 'bathrooms']\n",
    "for column in columns[1:]:\n",
    "    norm[column] = (df[column] - df[column].mean()) / df[column].std()\n",
    "\n",
    "# Дані для лінійної регресії\n",
    "X = norm[['area', 'bathrooms', 'bedrooms']].values\n",
    "y = norm['price'].values\n",
    "\n",
    "\n",
    "# Налаштування гіперпараметрів\n",
    "learning_rate = 0.001\n",
    "num_iterations = 100000\n",
    "eps = 1e-12\n",
    "\n",
    "# Градієнтний спуск\n",
    "w_gradient, loss_history = gradient(X, y, learning_rate, num_iterations, eps)\n",
    "print('Gradient Descent - w:', w_gradient)\n",
    "    \n",
    "# Аналітичний розв'язок\n",
    "ones = np.ones((X.shape[0], 1))\n",
    "X = np.hstack((ones, X))\n",
    "w_analytical = np.linalg.pinv(X.T @ X) @ X.T @ y\n",
    "print('Analytical Solution - Optimal w:', w_analytical)"
   ]
  }
 ],
 "metadata": {
  "kernelspec": {
   "display_name": "Python 3",
   "language": "python",
   "name": "python3"
  },
  "language_info": {
   "codemirror_mode": {
    "name": "ipython",
    "version": 3
   },
   "file_extension": ".py",
   "mimetype": "text/x-python",
   "name": "python",
   "nbconvert_exporter": "python",
   "pygments_lexer": "ipython3",
   "version": "3.12.3"
  }
 },
 "nbformat": 4,
 "nbformat_minor": 2
}
