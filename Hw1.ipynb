{
 "cells": [
  {
   "cell_type": "code",
   "execution_count": 1,
   "metadata": {},
   "outputs": [],
   "source": [
    "import numpy as np"
   ]
  },
  {
   "cell_type": "code",
   "execution_count": 25,
   "metadata": {},
   "outputs": [
    {
     "name": "stdout",
     "output_type": "stream",
     "text": [
      "[ 1  2  3  4  5  6  7  8  9 10]\n"
     ]
    }
   ],
   "source": [
    "# 1. Створіть одновимірний масив (вектор) з першими 10-ма натуральними числами та виведіть його значення.\n",
    "vector = np.array([1, 2, 3, 4, 5, 6, 7, 8, 9, 10])\n",
    "print(vector)"
   ]
  },
  {
   "cell_type": "code",
   "execution_count": 8,
   "metadata": {},
   "outputs": [
    {
     "name": "stdout",
     "output_type": "stream",
     "text": [
      "[[0 0 0]\n",
      " [0 0 0]\n",
      " [0 0 0]]\n"
     ]
    }
   ],
   "source": [
    "# 2. Створіть двовимірний масив (матрицю) розміром 3x3, заповніть його нулями та виведіть його значення.\n",
    "matrix = np.zeros((3, 3), dtype=int)\n",
    "print(matrix)"
   ]
  },
  {
   "cell_type": "code",
   "execution_count": 27,
   "metadata": {},
   "outputs": [
    {
     "name": "stdout",
     "output_type": "stream",
     "text": [
      "[[5 7 9 5 3]\n",
      " [2 1 1 3 6]\n",
      " [9 7 8 8 6]\n",
      " [6 7 5 7 3]\n",
      " [3 2 5 8 5]]\n"
     ]
    }
   ],
   "source": [
    "# 3. Створіть масив розміром 5x5, заповніть його випадковими цілими числами в діапазоні від 1 до 10 та виведіть його значення.\n",
    "matrix = np.random.randint(1, 11, size=(5,5))\n",
    "print(matrix)"
   ]
  },
  {
   "cell_type": "code",
   "execution_count": 28,
   "metadata": {},
   "outputs": [
    {
     "name": "stdout",
     "output_type": "stream",
     "text": [
      "[[0.46805222 0.67503923 0.59657944 0.61578546]\n",
      " [0.98935897 0.93506656 0.9313595  0.19580314]\n",
      " [0.85594684 0.27203105 0.81699541 0.73470981]\n",
      " [0.06180876 0.65088536 0.73889491 0.79003153]]\n"
     ]
    }
   ],
   "source": [
    "# 4. Створіть масив розміром 4x4, заповніть його випадковими дійсними числами в діапазоні від 0 до 1 та виведіть його значення.\n",
    "matrix = np.random.rand(4,4)\n",
    "print(matrix)"
   ]
  },
  {
   "cell_type": "code",
   "execution_count": 29,
   "metadata": {},
   "outputs": [
    {
     "name": "stdout",
     "output_type": "stream",
     "text": [
      "[11 12 13 14  9]\n",
      "[-5  0  7  6  1]\n",
      "[24 36 30 40 20]\n"
     ]
    }
   ],
   "source": [
    "# 5. Створіть два одновимірних масиви розміром 5, заповніть їх випадковими цілими числами в діапазоні від 1 до 10 та виконайте на них поелементні \n",
    "# операції додавання, віднімання та множення.\n",
    "a = np.random.randint(1, 11, size=(5), dtype=int)\n",
    "b = np.random.randint(1, 11, size=(5), dtype=int)\n",
    "print(a+b)\n",
    "print(a-b)\n",
    "print(a*b)"
   ]
  },
  {
   "cell_type": "code",
   "execution_count": 12,
   "metadata": {},
   "outputs": [
    {
     "name": "stdout",
     "output_type": "stream",
     "text": [
      "140\n"
     ]
    }
   ],
   "source": [
    "# 6. Створіть два вектори розміром 7, заповніть довільними числами та знайдіть їх скалярний добуток.\n",
    "vector1 = np.array([1, 2, 3, 4, 5, 6, 7])\n",
    "vector2 = np.array([2, 4, 6, 1, 3, 5, 9])\n",
    "print(np.dot(vector1, vector2))"
   ]
  },
  {
   "cell_type": "code",
   "execution_count": 30,
   "metadata": {},
   "outputs": [
    {
     "name": "stdout",
     "output_type": "stream",
     "text": [
      "[[60 82 62]\n",
      " [46 49 51]]\n"
     ]
    }
   ],
   "source": [
    "# 7. Створіть дві матриці розміром 2x2 та 2x3, заповніть їх випадковими цілими числами в діапазоні від 1 до 10 та перемножте їх між собою.\n",
    "matrix1 = np.random.randint(1, 11, size=(2,2), dtype=int)\n",
    "matrix2 = np.random.randint(1, 11, size=(2,3), dtype=int)\n",
    "print(np.dot(matrix1, matrix2))"
   ]
  },
  {
   "cell_type": "code",
   "execution_count": 31,
   "metadata": {},
   "outputs": [
    {
     "name": "stdout",
     "output_type": "stream",
     "text": [
      "[[ 0.26666667 -0.03333333 -0.06666667]\n",
      " [ 2.2         0.6        -1.8       ]\n",
      " [-0.93333333 -0.13333333  0.73333333]]\n"
     ]
    }
   ],
   "source": [
    "# 8. Створіть матрицю розміром 3x3, заповніть її випадковими цілими числами в діапазоні від 1 до 10 та знайдіть її обернену матрицю.\n",
    "matrix = np.random.randint(1, 11, size=(3,3), dtype=int)\n",
    "matrix_inv = np.linalg.inv(matrix)\n",
    "print(matrix_inv)"
   ]
  },
  {
   "cell_type": "code",
   "execution_count": 15,
   "metadata": {},
   "outputs": [
    {
     "name": "stdout",
     "output_type": "stream",
     "text": [
      "[[0.72134156 0.42880068 0.23752598 0.83815762]\n",
      " [0.60537426 0.49694561 0.6188766  0.38074179]\n",
      " [0.77547821 0.64715029 0.24436073 0.85714374]\n",
      " [0.03444573 0.61756546 0.96129218 0.49243283]]\n"
     ]
    }
   ],
   "source": [
    "# 9. Створіть матрицю розміром 4x4, заповніть її випадковими дійсними числами в діапазоні від 0 до 1 та транспонуйте її.\n",
    "matrix = np.random.rand(4, 4)\n",
    "print(matrix.T)"
   ]
  },
  {
   "cell_type": "code",
   "execution_count": 32,
   "metadata": {},
   "outputs": [
    {
     "name": "stdout",
     "output_type": "stream",
     "text": [
      "[62 87 91]\n"
     ]
    }
   ],
   "source": [
    "# 10. Створіть матрицю розміром 3x4 та вектор розміром 4, заповніть їх випадковими цілими числами в діапазоні від 1 до 10 та перемножте матрицю \n",
    "# на вектор.\n",
    "matrix = np.random.randint(1, 11, size=(3,4), dtype=int)\n",
    "vector = np.random.randint(1, 11, size=(4), dtype=int)\n",
    "print(np.dot(matrix, vector))"
   ]
  },
  {
   "cell_type": "code",
   "execution_count": 33,
   "metadata": {},
   "outputs": [
    {
     "name": "stdout",
     "output_type": "stream",
     "text": [
      "[0.30956472 0.58467035]\n"
     ]
    }
   ],
   "source": [
    "# 11. Створіть матрицю розміром 2x3 та вектор розміром 3, заповніть їх випадковими дійсними числами в діапазоні від 0 до 1 та перемножте матрицю \n",
    "# на вектор.\n",
    "matrix = np.random.rand(2, 3)\n",
    "vector = np.random.rand(3)\n",
    "print(np.dot(matrix, vector))"
   ]
  },
  {
   "cell_type": "code",
   "execution_count": 34,
   "metadata": {},
   "outputs": [
    {
     "name": "stdout",
     "output_type": "stream",
     "text": [
      "[[70  2]\n",
      " [ 9 30]]\n"
     ]
    }
   ],
   "source": [
    "# 12. Створіть дві матриці розміром 2x2, заповніть їх випадковими цілими числами в діапазоні від 1 до 10 та виконайте їхнє поелементне множення.\n",
    "matrix1 = np.random.randint(1, 11, size=(2,2), dtype=int)\n",
    "matrix2 = np.random.randint(1, 11, size=(2,2), dtype=int)\n",
    "print(matrix1*matrix2)"
   ]
  },
  {
   "cell_type": "code",
   "execution_count": 35,
   "metadata": {},
   "outputs": [
    {
     "name": "stdout",
     "output_type": "stream",
     "text": [
      "[[105  42]\n",
      " [108  34]]\n"
     ]
    }
   ],
   "source": [
    "# 13. Створіть дві матриці розміром 2x2, заповніть їх випадковими цілими числами в діапазоні від 1 до 10 та знайдіть їх добуток.\n",
    "matrix1 = np.random.randint(1, 11, size=(2,2), dtype=int)\n",
    "matrix2 = np.random.randint(1, 11, size=(2,2), dtype=int)\n",
    "print(np.dot(matrix1, matrix2))"
   ]
  },
  {
   "cell_type": "code",
   "execution_count": 36,
   "metadata": {},
   "outputs": [
    {
     "name": "stdout",
     "output_type": "stream",
     "text": [
      "[[63  8 12 21 72]\n",
      " [59 50 25  4 18]\n",
      " [31 34 31 96 40]\n",
      " [71 38  6 50 88]\n",
      " [14 56 60 78 13]]\n",
      "1038\n"
     ]
    }
   ],
   "source": [
    "# 14. Створіть матрицю розміром 5x5, заповніть її випадковими цілими числами в діапазоні від 1 до 100 та знайдіть суму елементів матриці.\n",
    "matrix = np.random.randint(1, 101, size=(5,5), dtype=int)\n",
    "print(matrix)\n",
    "print(matrix.sum())"
   ]
  },
  {
   "cell_type": "code",
   "execution_count": 37,
   "metadata": {},
   "outputs": [
    {
     "name": "stdout",
     "output_type": "stream",
     "text": [
      "[[-3  4  8 -3]\n",
      " [-5  3 -1 -5]\n",
      " [-1 -3  3  5]\n",
      " [ 3  2  0 -3]]\n"
     ]
    }
   ],
   "source": [
    "# 15. Створіть дві матриці розміром 4x4, заповніть їх випадковими цілими числами в діапазоні від 1 до 10 та знайдіть їхню різницю.\n",
    "matrix1 = np.random.randint(1, 11, size=(4,4), dtype=int)\n",
    "matrix2 = np.random.randint(1, 11, size=(4,4), dtype=int)\n",
    "print(matrix1 - matrix2)"
   ]
  },
  {
   "cell_type": "code",
   "execution_count": 38,
   "metadata": {},
   "outputs": [
    {
     "name": "stdout",
     "output_type": "stream",
     "text": [
      "[[0.59640868]\n",
      " [0.86972134]\n",
      " [1.21392145]]\n"
     ]
    }
   ],
   "source": [
    "# 16. Створіть матрицю розміром 3x3, заповніть її випадковими дійсними числами в діапазоні від 0 до 1 та знайдіть вектор-стовпчик, що містить суму\n",
    "#  елементів кожного рядка матриці.\n",
    "matrix = np.random.rand(3, 3)\n",
    "row_sums = matrix.sum(axis=1).reshape(-1, 1)\n",
    "print(row_sums)"
   ]
  },
  {
   "cell_type": "code",
   "execution_count": 40,
   "metadata": {},
   "outputs": [
    {
     "name": "stdout",
     "output_type": "stream",
     "text": [
      "[[0 1 0 8]\n",
      " [2 9 3 8]\n",
      " [2 8 3 6]]\n",
      "[[ 0  1  0 64]\n",
      " [ 4 81  9 64]\n",
      " [ 4 64  9 36]]\n"
     ]
    }
   ],
   "source": [
    "# 17. Створіть матрицю розміром 3x4 з довільними цілими числами і створінь матрицю з квадратами цих чисел.\n",
    "matrix = np.random.randint(0, 11, (3, 4))\n",
    "print(matrix)\n",
    "matrix2 = matrix ** 2\n",
    "print(matrix2)"
   ]
  },
  {
   "cell_type": "code",
   "execution_count": 41,
   "metadata": {},
   "outputs": [
    {
     "name": "stdout",
     "output_type": "stream",
     "text": [
      "[11 43 30  3]\n",
      "[3.31662479 6.55743852 5.47722558 1.73205081]\n"
     ]
    }
   ],
   "source": [
    "# 18. Створіть вектор розміром 4, заповніть його випадковими цілими числами в діапазоні від 1 до 50 та знайдіть вектор з квадратними коренями\n",
    "#  цих чисел.\n",
    "vector1 = np.random.randint(1, 51, size=4)\n",
    "print(vector1)\n",
    "vector2 = np.sqrt(vector1)\n",
    "print(vector2)"
   ]
  }
 ],
 "metadata": {
  "kernelspec": {
   "display_name": "Python 3",
   "language": "python",
   "name": "python3"
  },
  "language_info": {
   "codemirror_mode": {
    "name": "ipython",
    "version": 3
   },
   "file_extension": ".py",
   "mimetype": "text/x-python",
   "name": "python",
   "nbconvert_exporter": "python",
   "pygments_lexer": "ipython3",
   "version": "3.12.3"
  }
 },
 "nbformat": 4,
 "nbformat_minor": 2
}
